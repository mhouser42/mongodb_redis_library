{
 "cells": [
  {
   "cell_type": "markdown",
   "id": "e898af77",
   "metadata": {},
   "source": [
    "# MongoDB Imports\n",
    "\n",
    "#### This notebook imports information from the data directory into mongoDB"
   ]
  },
  {
   "cell_type": "code",
   "execution_count": 1,
   "id": "ca878db4",
   "metadata": {},
   "outputs": [],
   "source": [
    "import pymongo as pym\n",
    "import json\n",
    "import re\n",
    "import os\n",
    "import dns"
   ]
  },
  {
   "cell_type": "code",
   "execution_count": 2,
   "id": "eb340f03",
   "metadata": {},
   "outputs": [],
   "source": [
    "client = pym.MongoClient(\"mongodb+srv://<username>:<password>@librarydb.tec4i8b.mongodb.net/?retryWrites=true&w=majority\")\n",
    "db = client['libraryDB']\n",
    "path = 'data'\n",
    "infile_name = 'catalog.json'"
   ]
  },
  {
   "cell_type": "markdown",
   "id": "512692e1",
   "metadata": {},
   "source": [
    "## Creating Catalog"
   ]
  },
  {
   "cell_type": "code",
   "execution_count": 3,
   "id": "5cee2b8c",
   "metadata": {},
   "outputs": [],
   "source": [
    "catalog = db['books']"
   ]
  },
  {
   "cell_type": "code",
   "execution_count": 4,
   "id": "10fe1dbc",
   "metadata": {},
   "outputs": [],
   "source": [
    "with open(f'{path}/{infile_name}', 'r') as infile:\n",
    "    file_data = json.load(infile)"
   ]
  },
  {
   "cell_type": "code",
   "execution_count": 5,
   "id": "7f495f7f",
   "metadata": {},
   "outputs": [],
   "source": [
    "if isinstance(file_data, list):\n",
    "    catalog.insert_many(file_data) \n",
    "else:\n",
    "    catalog.insert_one(file_data)"
   ]
  },
  {
   "cell_type": "markdown",
   "id": "2c436c0a",
   "metadata": {},
   "source": [
    "## Inserting book contents"
   ]
  },
  {
   "cell_type": "code",
   "execution_count": 6,
   "id": "488b793a",
   "metadata": {},
   "outputs": [],
   "source": [
    "content = db['texts']"
   ]
  },
  {
   "cell_type": "code",
   "execution_count": 7,
   "id": "7f06d56b",
   "metadata": {},
   "outputs": [],
   "source": [
    "book_path = f'{path}/books'\n",
    "for file_name in os.listdir(book_path):\n",
    "    if file_name.endswith('.txt'):\n",
    "        with open(os.path.join(book_path, file_name), 'r', encoding='utf-8') as file:\n",
    "            try:\n",
    "                text = file.read()\n",
    "                doc = {\n",
    "                    '_id': int(file_name.removesuffix('.txt')),\n",
    "                    'text': text\n",
    "                }\n",
    "                content.insert_one(doc)\n",
    "            except:\n",
    "                print(f'error in file: {file_name}')"
   ]
  },
  {
   "cell_type": "code",
   "execution_count": null,
   "id": "23ae57c6",
   "metadata": {},
   "outputs": [],
   "source": []
  },
  {
   "cell_type": "markdown",
   "id": "e828da3f",
   "metadata": {},
   "source": [
    "## Inserting audio and visual catalog"
   ]
  },
  {
   "cell_type": "code",
   "execution_count": 8,
   "id": "3be781c4",
   "metadata": {},
   "outputs": [],
   "source": [
    "audio = db['audiobooks']\n",
    "visual = db['videos'] \n",
    "media_path = f'{path}/media'\n",
    "audio_infile = 'audiobooks.json'\n",
    "video_infile = 'videos.json'"
   ]
  },
  {
   "cell_type": "markdown",
   "id": "59885763",
   "metadata": {},
   "source": [
    "### upload audio"
   ]
  },
  {
   "cell_type": "code",
   "execution_count": 9,
   "id": "5dfa7cac",
   "metadata": {},
   "outputs": [],
   "source": [
    "with open(f'{media_path}/{audio_infile}', 'r') as audio_file:\n",
    "    audio_metadata = json.load(audio_file)\n",
    "if isinstance(audio_metadata, list):\n",
    "    audio.insert_many(audio_metadata) \n",
    "else:\n",
    "    audio.insert_one(audio_metadata)"
   ]
  },
  {
   "cell_type": "markdown",
   "id": "7e5aff92",
   "metadata": {},
   "source": [
    "### upload visual media"
   ]
  },
  {
   "cell_type": "code",
   "execution_count": 10,
   "id": "a34f79a7",
   "metadata": {},
   "outputs": [],
   "source": [
    "with open(f'{media_path}/{video_infile}', 'r') as video_file:\n",
    "    video_metadata = json.load(video_file)\n",
    "if isinstance(video_metadata, list):\n",
    "    visual.insert_many(video_metadata) \n",
    "else:\n",
    "    visual.insert_one(video_metadata)"
   ]
  },
  {
   "cell_type": "code",
   "execution_count": null,
   "id": "aab5055c",
   "metadata": {},
   "outputs": [],
   "source": []
  }
 ],
 "metadata": {
  "kernelspec": {
   "display_name": "Python 3 (ipykernel)",
   "language": "python",
   "name": "python3"
  },
  "language_info": {
   "codemirror_mode": {
    "name": "ipython",
    "version": 3
   },
   "file_extension": ".py",
   "mimetype": "text/x-python",
   "name": "python",
   "nbconvert_exporter": "python",
   "pygments_lexer": "ipython3",
   "version": "3.10.9"
  }
 },
 "nbformat": 4,
 "nbformat_minor": 5
}
