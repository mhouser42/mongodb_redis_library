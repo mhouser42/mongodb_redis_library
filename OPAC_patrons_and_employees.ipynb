{
 "cells": [
  {
   "cell_type": "markdown",
   "id": "c28787a3",
   "metadata": {},
   "source": [
    "# Library Features and Implementation: for catalog, employee, and patron collections"
   ]
  },
  {
   "cell_type": "code",
   "execution_count": 1,
   "id": "a395f81d",
   "metadata": {},
   "outputs": [],
   "source": [
    "import pymongo as pym\n",
    "import redis\n",
    "import json\n",
    "from bson.son import SON"
   ]
  },
  {
   "cell_type": "code",
   "execution_count": 2,
   "id": "5d630b64",
   "metadata": {},
   "outputs": [],
   "source": [
    "client = pym.MongoClient(\"mongodb+srv://<username>:<password>@librarydb.tec4i8b.mongodb.net/?retryWrites=true&w=majority\")\n",
    "r = redis.Redis(\n",
    "  host='<YOUR HOST HERE>',\n",
    "  port=10522,\n",
    "  password='YOUR PASSWORD HERE')\n",
    "db = client['libraryDB']\n",
    "catalog = db.books\n",
    "patrons = db.patrons\n",
    "employees = db.employees\n",
    "texts = db.texts"
   ]
  },
  {
   "cell_type": "markdown",
   "id": "5a333adf",
   "metadata": {},
   "source": [
    "## History"
   ]
  },
  {
   "cell_type": "code",
   "execution_count": 3,
   "id": "c530d52a",
   "metadata": {},
   "outputs": [],
   "source": [
    "def save_to_history(collection, doc_id, query):\n",
    "    doc_history = f'{collection}_ID{doc_id}_History'\n",
    "    count = r.zcard(doc_history)\n",
    "    \n",
    "    doc_dict = {}\n",
    "    doc_dict[query] = count + 1\n",
    "    \n",
    "    r.zadd(doc_history, doc_dict)"
   ]
  },
  {
   "cell_type": "code",
   "execution_count": 4,
   "id": "ecbff9a9",
   "metadata": {},
   "outputs": [],
   "source": [
    "def undo(collection, doc_id):\n",
    "    doc_history = f'{collection}_ID{doc_id}_History'\n",
    "    doc = collection.find_one(doc_id)\n",
    "    \n",
    "    try:\n",
    "        count = r.zcard(doc_history) + 1\n",
    "        query = {'id': doc_id}\n",
    "        value = r.zrange(doc_history, count, count + 1)\n",
    "        value = str(value)\n",
    "        \n",
    "        r.zremrangebyscore(doc_history, count, count + 1)\n",
    "    except:\n",
    "        print(f'{doc} does not have an edit history')"
   ]
  },
  {
   "cell_type": "code",
   "execution_count": 5,
   "id": "c320ded4",
   "metadata": {},
   "outputs": [],
   "source": [
    "def get_history(collection, doc_id):\n",
    "    doc_history = f'{collection}_ID{doc_id}_History'\n",
    "    return r.zrange(doc_history, 0, -1)"
   ]
  },
  {
   "cell_type": "markdown",
   "id": "d86b0e2f",
   "metadata": {},
   "source": [
    "### Demo"
   ]
  },
  {
   "cell_type": "code",
   "execution_count": null,
   "id": "4cf08037",
   "metadata": {},
   "outputs": [],
   "source": []
  },
  {
   "cell_type": "code",
   "execution_count": 6,
   "id": "316f8985",
   "metadata": {},
   "outputs": [],
   "source": [
    "def update_book_field(book_id, field, value):\n",
    "        query = {'_id': book_id}\n",
    "        set_value = {'$set': {field : value}}\n",
    "        \n",
    "        save_to_history(catalog, book_id, set_value)\n",
    "        catalog.update_one(query, set_value)"
   ]
  },
  {
   "cell_type": "code",
   "execution_count": 7,
   "id": "72c5edb9",
   "metadata": {},
   "outputs": [],
   "source": [
    "def create_popUp_bookClub(creator, club_name):\n",
    "    club_name = f'The {club_name} Club'\n",
    "    if r.exists(club_name):\n",
    "        print(f'{club_name} already exists.')\n",
    "    else:\n",
    "        nearby = find_nearby_patrons(creator['_id'])[0]\n",
    "        count = r.zcard(club_name)\n",
    "\n",
    "        club_dict = {}\n",
    "        club_dict[f'{count + 1}. Patron {creator[\"firstName\"]} {creator[\"surname\"]} has created {club_name}!'] = count + 1\n",
    "\n",
    "        r.zadd(club_name, club_dict)\n",
    "        for recipient_id in nearby:\n",
    "            recipient = get_patron(recipient_id)\n",
    "            send_message(creator, recipient, f'Just created {club_name}! Setting up at {creator[\"loc\"]}')"
   ]
  },
  {
   "cell_type": "markdown",
   "id": "3c0b6aa2",
   "metadata": {},
   "source": [
    "## Universal Search"
   ]
  },
  {
   "cell_type": "code",
   "execution_count": 8,
   "id": "4b7356e5",
   "metadata": {},
   "outputs": [],
   "source": [
    "def search_by_field(collection, key, value, find_one):\n",
    "    query = {key: value}\n",
    "    if find_one == True:\n",
    "        doc = collection.find_one(query)\n",
    "    else:\n",
    "        doc = list(collection.find(query))\n",
    "    return doc"
   ]
  },
  {
   "cell_type": "markdown",
   "id": "f9f2b858",
   "metadata": {},
   "source": [
    "### Demo"
   ]
  },
  {
   "cell_type": "code",
   "execution_count": 9,
   "id": "c69fc0bd",
   "metadata": {},
   "outputs": [
    {
     "data": {
      "text/plain": [
       "{'_id': 2965,\n",
       " 'title': 'The Wit and Wisdom of Mark Twain',\n",
       " 'author': 'Mark Twain',\n",
       " 'average_rating': 4.2,\n",
       " 'isbn': '486406644',\n",
       " 'language_code': 'eng',\n",
       " 'num_pages': 64,\n",
       " 'ratings_count': 970,\n",
       " 'text_reviews_count': 53,\n",
       " 'publication_date': '12/23/1998',\n",
       " 'publisher': 'Dover Publications',\n",
       " 'available': 1}"
      ]
     },
     "execution_count": 9,
     "metadata": {},
     "output_type": "execute_result"
    }
   ],
   "source": [
    "search_by_field(catalog, 'author', 'Mark Twain', True)"
   ]
  },
  {
   "cell_type": "code",
   "execution_count": 10,
   "id": "513f56b5",
   "metadata": {},
   "outputs": [
    {
     "data": {
      "text/plain": [
       "[{'_id': 395,\n",
       "  'surname': 'Roberts',\n",
       "  'firstName': 'Clayton',\n",
       "  'address': '4425 Gentry Vista, Roscoe, IL, 61080',\n",
       "  'phone': '(822)867-4049',\n",
       "  'email': 'clroberts@gmail.com',\n",
       "  'username': 'clroberts',\n",
       "  'password': 'BQCIytZ31JQh',\n",
       "  'loc': [-89.02997287891019, 42.41248832044677],\n",
       "  'pubPriv': 'private',\n",
       "  'checkedOutBooks': [],\n",
       "  'favorites': []},\n",
       " {'_id': 638,\n",
       "  'surname': 'Roberts',\n",
       "  'firstName': 'Brandi',\n",
       "  'address': '6163 Kristen Course, Roscoe, IL, 61080',\n",
       "  'phone': '(915)733-0943',\n",
       "  'email': 'brroberts@yahoo.com',\n",
       "  'username': 'brroberts',\n",
       "  'password': 'BSOMwdMOMkAsQZBBkpXCuiP3',\n",
       "  'loc': [-89.0436540622616, 42.42096353554921],\n",
       "  'pubPriv': 'public',\n",
       "  'checkedOutBooks': [],\n",
       "  'favorites': []},\n",
       " {'_id': 924,\n",
       "  'surname': 'Roberts',\n",
       "  'firstName': 'Lisa',\n",
       "  'address': '6359 Shah Green Suite 754, Roscoe, IL, 61080',\n",
       "  'phone': '(955)093-3709',\n",
       "  'email': 'liroberts@yahoo.com',\n",
       "  'username': 'liroberts',\n",
       "  'password': 'srS9YJNPv6z6dmC6',\n",
       "  'loc': [-89.01545969979794, 42.39078255116716],\n",
       "  'pubPriv': 'public',\n",
       "  'checkedOutBooks': [],\n",
       "  'favorites': []},\n",
       " {'_id': 929,\n",
       "  'surname': 'Roberts',\n",
       "  'firstName': 'Sarah',\n",
       "  'address': '5351 Shawn Parks, Roscoe, IL, 61080',\n",
       "  'phone': '(984)876-6096',\n",
       "  'email': 'saroberts@yahoo.com',\n",
       "  'username': 'saroberts',\n",
       "  'password': '9ezc4clQIk7Z',\n",
       "  'loc': [-88.99187857271043, 42.40714760487967],\n",
       "  'pubPriv': 'public',\n",
       "  'checkedOutBooks': [],\n",
       "  'favorites': []}]"
      ]
     },
     "execution_count": 10,
     "metadata": {},
     "output_type": "execute_result"
    }
   ],
   "source": [
    "search_by_field(patrons, 'surname', 'Roberts', False)"
   ]
  },
  {
   "cell_type": "code",
   "execution_count": 11,
   "id": "ee303482",
   "metadata": {},
   "outputs": [
    {
     "data": {
      "text/plain": [
       "[{'_id': 1,\n",
       "  'surname': 'Raymond',\n",
       "  'firstName': 'Kim',\n",
       "  'schedule': 'C',\n",
       "  'weeklyHours': 40,\n",
       "  'wageType': 'Salary',\n",
       "  'pay': 48037.68,\n",
       "  'phone': '926-138-8148',\n",
       "  'email': 'kiraymond@gmail.com',\n",
       "  'username': 'kiraymond',\n",
       "  'password': 'eXGCrZF9lcAGPc7gIgLYGnYF'},\n",
       " {'_id': 3,\n",
       "  'surname': 'Ponce',\n",
       "  'firstName': 'Matthew',\n",
       "  'schedule': 'A',\n",
       "  'weeklyHours': 40,\n",
       "  'wageType': 'Salary',\n",
       "  'pay': 69420.44,\n",
       "  'phone': '402-621-2034',\n",
       "  'email': 'maponce@gmail.com',\n",
       "  'username': 'maponce',\n",
       "  'password': '_IDbFdb72d2KyHI'},\n",
       " {'_id': 5,\n",
       "  'surname': 'Duarte',\n",
       "  'firstName': 'Lindsay',\n",
       "  'schedule': 'C',\n",
       "  'weeklyHours': 40,\n",
       "  'wageType': 'Salary',\n",
       "  'pay': 66590.57,\n",
       "  'phone': '175-182-5955',\n",
       "  'email': 'liduarte@gmail.com',\n",
       "  'username': 'liduarte',\n",
       "  'password': 'twjHddHs9xc_Ya3saWY'},\n",
       " {'_id': 6,\n",
       "  'surname': 'Martin',\n",
       "  'firstName': 'Margaret',\n",
       "  'schedule': 'A',\n",
       "  'weeklyHours': 40,\n",
       "  'wageType': 'Salary',\n",
       "  'pay': 67658.12,\n",
       "  'phone': '871-817-1127',\n",
       "  'email': 'mamartin@live.com',\n",
       "  'username': 'mamartin',\n",
       "  'password': '9MFDxxfV3iJlDiP31vBiy_ssDbM'},\n",
       " {'_id': 7,\n",
       "  'surname': 'Beard',\n",
       "  'firstName': 'Amber',\n",
       "  'schedule': 'A',\n",
       "  'weeklyHours': 40,\n",
       "  'wageType': 'Salary',\n",
       "  'pay': 47360.9,\n",
       "  'phone': '786-785-9013',\n",
       "  'email': 'ambeard@live.com',\n",
       "  'username': 'ambeard',\n",
       "  'password': 'RuM6cmb29wJo7SM'},\n",
       " {'_id': 8,\n",
       "  'surname': 'Cole',\n",
       "  'firstName': 'Christopher',\n",
       "  'schedule': 'A',\n",
       "  'weeklyHours': 40,\n",
       "  'wageType': 'Salary',\n",
       "  'pay': 39210.68,\n",
       "  'phone': '182-164-9029',\n",
       "  'email': 'chcole@live.com',\n",
       "  'username': 'chcole',\n",
       "  'password': 'MkI_wk_qdzlkwn0'},\n",
       " {'_id': 9,\n",
       "  'surname': 'Sanchez',\n",
       "  'firstName': 'William',\n",
       "  'schedule': 'A',\n",
       "  'weeklyHours': 40,\n",
       "  'wageType': 'Salary',\n",
       "  'pay': 53132.1,\n",
       "  'phone': '494-649-6799',\n",
       "  'email': 'wisanchez@live.com',\n",
       "  'username': 'wisanchez',\n",
       "  'password': 'cYiWDNHwM96EnYOgAw'},\n",
       " {'_id': 10,\n",
       "  'surname': 'Young',\n",
       "  'firstName': 'Brandon',\n",
       "  'schedule': 'A',\n",
       "  'weeklyHours': 40,\n",
       "  'wageType': 'Salary',\n",
       "  'pay': 41137.51,\n",
       "  'phone': '862-109-5519',\n",
       "  'email': 'bryoung@gmail.com',\n",
       "  'username': 'bryoung',\n",
       "  'password': 'dXlUBT33V_Gf7jgXCwSI'},\n",
       " {'_id': 11,\n",
       "  'surname': 'Hayes',\n",
       "  'firstName': 'Beth',\n",
       "  'schedule': 'C',\n",
       "  'weeklyHours': 40,\n",
       "  'wageType': 'Salary',\n",
       "  'pay': 44180.3,\n",
       "  'phone': '655-479-6580',\n",
       "  'email': 'behayes@yahoo.com',\n",
       "  'username': 'behayes',\n",
       "  'password': 'KjRnGrf-W9AcN8Pp'},\n",
       " {'_id': 14,\n",
       "  'surname': 'Rogers',\n",
       "  'firstName': 'Troy',\n",
       "  'schedule': 'A',\n",
       "  'weeklyHours': 40,\n",
       "  'wageType': 'Salary',\n",
       "  'pay': 38250.54,\n",
       "  'phone': '807-457-7477',\n",
       "  'email': 'trrogers@live.com',\n",
       "  'username': 'trrogers',\n",
       "  'password': 'NKBg85h3KOE4jK_WnRk'},\n",
       " {'_id': 15,\n",
       "  'surname': 'White',\n",
       "  'firstName': 'Jennifer',\n",
       "  'schedule': 'A',\n",
       "  'weeklyHours': 40,\n",
       "  'wageType': 'Salary',\n",
       "  'pay': 57036.06,\n",
       "  'phone': '362-474-1676',\n",
       "  'email': 'jewhite@gmail.com',\n",
       "  'username': 'jewhite',\n",
       "  'password': 'qekrj01Pkiw'},\n",
       " {'_id': 16,\n",
       "  'surname': 'Harmon',\n",
       "  'firstName': 'Anna',\n",
       "  'schedule': 'C',\n",
       "  'weeklyHours': 40,\n",
       "  'wageType': 'Salary',\n",
       "  'pay': 39924.74,\n",
       "  'phone': '813-294-0022',\n",
       "  'email': 'anharmon@gmail.com',\n",
       "  'username': 'anharmon',\n",
       "  'password': 'C42cxNua7w'},\n",
       " {'_id': 17,\n",
       "  'surname': 'Smith',\n",
       "  'firstName': 'Scott',\n",
       "  'schedule': 'C',\n",
       "  'weeklyHours': 40,\n",
       "  'wageType': 'Salary',\n",
       "  'pay': 47958.36,\n",
       "  'phone': '284-021-6729',\n",
       "  'email': 'scsmith@yahoo.com',\n",
       "  'username': 'scsmith',\n",
       "  'password': 't3ldVxxLSec'},\n",
       " {'_id': 20,\n",
       "  'surname': 'Washington',\n",
       "  'firstName': 'Jill',\n",
       "  'schedule': 'A',\n",
       "  'weeklyHours': 40,\n",
       "  'wageType': 'Salary',\n",
       "  'pay': 61904.64,\n",
       "  'phone': '522-302-2800',\n",
       "  'email': 'jiwashington@live.com',\n",
       "  'username': 'jiwashington',\n",
       "  'password': '05SL4KwQdXGBkem4R1o'},\n",
       " {'_id': 21,\n",
       "  'surname': 'Brown',\n",
       "  'firstName': 'Jose',\n",
       "  'schedule': 'A',\n",
       "  'weeklyHours': 40,\n",
       "  'wageType': 'Salary',\n",
       "  'pay': 43211.5,\n",
       "  'phone': '741-260-2773',\n",
       "  'email': 'jobrown@yahoo.com',\n",
       "  'username': 'jobrown',\n",
       "  'password': 'mZDCK3ciJe9LkBuiEaQ'},\n",
       " {'_id': 22,\n",
       "  'surname': 'Spencer',\n",
       "  'firstName': 'Marie',\n",
       "  'schedule': 'A',\n",
       "  'weeklyHours': 40,\n",
       "  'wageType': 'Salary',\n",
       "  'pay': 43817.8,\n",
       "  'phone': '773-308-5479',\n",
       "  'email': 'maspencer@yahoo.com',\n",
       "  'username': 'maspencer',\n",
       "  'password': '-vmh-nA8kvOPlQ'},\n",
       " {'_id': 23,\n",
       "  'surname': 'Butler',\n",
       "  'firstName': 'Jennifer',\n",
       "  'schedule': 'A',\n",
       "  'weeklyHours': 40,\n",
       "  'wageType': 'Salary',\n",
       "  'pay': 56028.12,\n",
       "  'phone': '296-199-7597',\n",
       "  'email': 'jebutler@live.com',\n",
       "  'username': 'jebutler',\n",
       "  'password': 'OIHEiUHDvGOC3FNj'},\n",
       " {'_id': 25,\n",
       "  'surname': 'Hernandez',\n",
       "  'firstName': 'Alexander',\n",
       "  'schedule': 'A',\n",
       "  'weeklyHours': 40,\n",
       "  'wageType': 'Salary',\n",
       "  'pay': 55432.99,\n",
       "  'phone': '265-356-9357',\n",
       "  'email': 'alhernandez@live.com',\n",
       "  'username': 'alhernandez',\n",
       "  'password': '9Ealb26R6TBgwp8'},\n",
       " {'_id': 28,\n",
       "  'surname': 'Cooley',\n",
       "  'firstName': 'Jonathon',\n",
       "  'schedule': 'E',\n",
       "  'weeklyHours': 40,\n",
       "  'wageType': 'Hourly',\n",
       "  'pay': 48605.87,\n",
       "  'phone': '918-015-3131',\n",
       "  'email': 'jocooley@gmail.com',\n",
       "  'username': 'jocooley',\n",
       "  'password': 'zVJ0I4M7Bg4MEbDJKrWA2whzwQ'},\n",
       " {'_id': 29,\n",
       "  'surname': 'Henry',\n",
       "  'firstName': 'Anne',\n",
       "  'schedule': 'C',\n",
       "  'weeklyHours': 40,\n",
       "  'wageType': 'Salary',\n",
       "  'pay': 67913.66,\n",
       "  'phone': '493-391-0455',\n",
       "  'email': 'anhenry@yahoo.com',\n",
       "  'username': 'anhenry',\n",
       "  'password': 'mRLzfpuP1CSFWHKG9Lv23zgTArE'},\n",
       " {'_id': 31,\n",
       "  'surname': 'Prince',\n",
       "  'firstName': 'Adrienne',\n",
       "  'schedule': 'C',\n",
       "  'weeklyHours': 40,\n",
       "  'wageType': 'Salary',\n",
       "  'pay': 66111.05,\n",
       "  'phone': '899-739-6660',\n",
       "  'email': 'adprince@gmail.com',\n",
       "  'username': 'adprince',\n",
       "  'password': 'K3O2I_hfALJdodRWeYk'},\n",
       " {'_id': 33,\n",
       "  'surname': 'Medina',\n",
       "  'firstName': 'Christine',\n",
       "  'schedule': 'C',\n",
       "  'weeklyHours': 40,\n",
       "  'wageType': 'Salary',\n",
       "  'pay': 39615.9,\n",
       "  'phone': '348-169-2171',\n",
       "  'email': 'chmedina@gmail.com',\n",
       "  'username': 'chmedina',\n",
       "  'password': 'WzvUpASbF3L8HElzONkvrw'},\n",
       " {'_id': 34,\n",
       "  'surname': 'Farley',\n",
       "  'firstName': 'Kenneth',\n",
       "  'schedule': 'C',\n",
       "  'weeklyHours': 40,\n",
       "  'wageType': 'Salary',\n",
       "  'pay': 37011.23,\n",
       "  'phone': '687-469-3706',\n",
       "  'email': 'kefarley@gmail.com',\n",
       "  'username': 'kefarley',\n",
       "  'password': 'n5VHM4tSrgdSLJM'},\n",
       " {'_id': 36,\n",
       "  'surname': 'Rivas',\n",
       "  'firstName': 'Lisa',\n",
       "  'schedule': 'A',\n",
       "  'weeklyHours': 40,\n",
       "  'wageType': 'Salary',\n",
       "  'pay': 36587.34,\n",
       "  'phone': '696-351-6616',\n",
       "  'email': 'lirivas@gmail.com',\n",
       "  'username': 'lirivas',\n",
       "  'password': 'L8K5NsTq_Mza'},\n",
       " {'_id': 41,\n",
       "  'surname': 'Hill',\n",
       "  'firstName': 'Michael',\n",
       "  'schedule': 'C',\n",
       "  'weeklyHours': 40,\n",
       "  'wageType': 'Salary',\n",
       "  'pay': 49008.87,\n",
       "  'phone': '325-491-2668',\n",
       "  'email': 'mihill@gmail.com',\n",
       "  'username': 'mihill',\n",
       "  'password': 'ylSp88OgxAMor4G2Kw'},\n",
       " {'_id': 42,\n",
       "  'surname': 'Barton',\n",
       "  'firstName': 'Julie',\n",
       "  'schedule': 'A',\n",
       "  'weeklyHours': 40,\n",
       "  'wageType': 'Salary',\n",
       "  'pay': 62628.34,\n",
       "  'phone': '554-806-5783',\n",
       "  'email': 'jubarton@gmail.com',\n",
       "  'username': 'jubarton',\n",
       "  'password': '1okWTOhQ_yh0TdyR1kcV-Q'},\n",
       " {'_id': 43,\n",
       "  'surname': 'Walker',\n",
       "  'firstName': 'Mark',\n",
       "  'schedule': 'C',\n",
       "  'weeklyHours': 40,\n",
       "  'wageType': 'Salary',\n",
       "  'pay': 66989.42,\n",
       "  'phone': '118-582-7356',\n",
       "  'email': 'mawalker@live.com',\n",
       "  'username': 'mawalker',\n",
       "  'password': 'H2XoF83eATLZSvjXalgFIRQ'},\n",
       " {'_id': 44,\n",
       "  'surname': 'Mckay',\n",
       "  'firstName': 'Amy',\n",
       "  'schedule': 'E',\n",
       "  'weeklyHours': 40,\n",
       "  'wageType': 'Hourly',\n",
       "  'pay': 45140.08,\n",
       "  'phone': '933-095-5507',\n",
       "  'email': 'ammckay@live.com',\n",
       "  'username': 'ammckay',\n",
       "  'password': 'ymCWG7_Zmyoer_FjcK-IydRq'},\n",
       " {'_id': 45,\n",
       "  'surname': 'Rice',\n",
       "  'firstName': 'John',\n",
       "  'schedule': 'C',\n",
       "  'weeklyHours': 40,\n",
       "  'wageType': 'Salary',\n",
       "  'pay': 62937.65,\n",
       "  'phone': '318-042-6579',\n",
       "  'email': 'jorice@yahoo.com',\n",
       "  'username': 'jorice',\n",
       "  'password': 'QkfPCTYNZA'},\n",
       " {'_id': 48,\n",
       "  'surname': 'Harper',\n",
       "  'firstName': 'Keith',\n",
       "  'schedule': 'C',\n",
       "  'weeklyHours': 40,\n",
       "  'wageType': 'Salary',\n",
       "  'pay': 36363.91,\n",
       "  'phone': '742-773-2232',\n",
       "  'email': 'keharper@live.com',\n",
       "  'username': 'keharper',\n",
       "  'password': 'rjV_vwxd5Lrf'},\n",
       " {'_id': 50,\n",
       "  'surname': 'Roy',\n",
       "  'firstName': 'Alexis',\n",
       "  'schedule': 'C',\n",
       "  'weeklyHours': 40,\n",
       "  'wageType': 'Salary',\n",
       "  'pay': 45716.01,\n",
       "  'phone': '748-800-2019',\n",
       "  'email': 'alroy@gmail.com',\n",
       "  'username': 'alroy',\n",
       "  'password': 'bxO7ekYMTzMavIM'}]"
      ]
     },
     "execution_count": 11,
     "metadata": {},
     "output_type": "execute_result"
    }
   ],
   "source": [
    "search_by_field(employees, 'weeklyHours', 40, False)"
   ]
  },
  {
   "cell_type": "markdown",
   "id": "876d05b0",
   "metadata": {},
   "source": [
    "## OPAC"
   ]
  },
  {
   "cell_type": "markdown",
   "id": "410c1e92",
   "metadata": {},
   "source": [
    "### Basic SCUM"
   ]
  },
  {
   "cell_type": "code",
   "execution_count": 12,
   "id": "74b01f7f",
   "metadata": {},
   "outputs": [],
   "source": [
    "def get_book(book_id):\n",
    "    query = {'_id': book_id}\n",
    "    book = catalog.find_one(query)\n",
    "    return book"
   ]
  },
  {
   "cell_type": "code",
   "execution_count": 13,
   "id": "a53de5a7",
   "metadata": {},
   "outputs": [],
   "source": [
    "def add_book(book_id, title, author, rating, isbn, language_code,\n",
    "             num_pages, ratings_count,text_reviews_count, publication_date,\n",
    "             publisher):\n",
    "    try:\n",
    "        this_book = {'_id': book_id,\n",
    "                    'title': title,\n",
    "                    'author': author,\n",
    "                    'rating': rating,\n",
    "                    'isbn': isbn,\n",
    "                    'language_code': language_code,\n",
    "                    'num_pages': num_pages,\n",
    "                    'ratings_count': ratings_count,\n",
    "                    'text_reviews_count': text_reviews_count,\n",
    "                    'publication_date': publication_date,\n",
    "                    'publisher': publisher,\n",
    "                    'available': 1}\n",
    "\n",
    "        catalog.insert_one(this_book)\n",
    "        print(f'Sucessfully added \"{title}\" to catalog')\n",
    "    except:\n",
    "        print('Book ID already exists in this system')"
   ]
  },
  {
   "cell_type": "code",
   "execution_count": 14,
   "id": "4ab3cc0e",
   "metadata": {},
   "outputs": [],
   "source": [
    "def add_books(book_list):\n",
    "    catalog.insert_many(book_list)"
   ]
  },
  {
   "cell_type": "code",
   "execution_count": 15,
   "id": "eb9c73a5",
   "metadata": {},
   "outputs": [],
   "source": [
    "def delete_book(book_id):\n",
    "    try:\n",
    "        query = {'_id': book_id}\n",
    "        book = catalog.find_one(query)\n",
    "        catalog.delete_one(query)\n",
    "        print(f'Successfully deleted \"{book[\"title\"]}\"')\n",
    "    except:\n",
    "        print(f'Book ID: {book_id} does not exist in our system')"
   ]
  },
  {
   "cell_type": "code",
   "execution_count": 16,
   "id": "8246bb76",
   "metadata": {},
   "outputs": [],
   "source": [
    "def delete_books(bookID_list):\n",
    "    for book_id in bookID_list:\n",
    "        delete_book(book_id)"
   ]
  },
  {
   "cell_type": "code",
   "execution_count": 17,
   "id": "2980a584",
   "metadata": {},
   "outputs": [],
   "source": [
    "def update_book_field(book_id, field, value):\n",
    "        query = {'_id': book_id}\n",
    "        set_value = {'$set': {field : value}}\n",
    "        \n",
    "        save_to_history(catalog, book_id, str(set_value))\n",
    "        catalog.update_one(query, set_value)"
   ]
  },
  {
   "cell_type": "markdown",
   "id": "a0092a34",
   "metadata": {},
   "source": [
    "#### Demo"
   ]
  },
  {
   "cell_type": "code",
   "execution_count": 18,
   "id": "8cb9007f",
   "metadata": {},
   "outputs": [
    {
     "name": "stdout",
     "output_type": "stream",
     "text": [
      "Sucessfully added \"Sad Times for Silly Men\" to catalog\n"
     ]
    }
   ],
   "source": [
    "add_book(2,'Sad Times for Silly Men', 'Pam Elliot', 1.1, '754654',\n",
    "         'eng', 501, 521, 18, '6/1/1991', 'Little Brown Book')"
   ]
  },
  {
   "cell_type": "code",
   "execution_count": 19,
   "id": "06a19675",
   "metadata": {},
   "outputs": [
    {
     "data": {
      "text/plain": [
       "{'_id': 2,\n",
       " 'title': 'Sad Times for Silly Men',\n",
       " 'author': 'Pam Elliot',\n",
       " 'rating': 1.1,\n",
       " 'isbn': '754654',\n",
       " 'language_code': 'eng',\n",
       " 'num_pages': 501,\n",
       " 'ratings_count': 521,\n",
       " 'text_reviews_count': 18,\n",
       " 'publication_date': '6/1/1991',\n",
       " 'publisher': 'Little Brown Book',\n",
       " 'available': 1}"
      ]
     },
     "execution_count": 19,
     "metadata": {},
     "output_type": "execute_result"
    }
   ],
   "source": [
    "get_book(2)"
   ]
  },
  {
   "cell_type": "code",
   "execution_count": 20,
   "id": "fb3dc78b",
   "metadata": {},
   "outputs": [
    {
     "data": {
      "text/plain": [
       "[{'_id': 2,\n",
       "  'title': 'Sad Times for Silly Men',\n",
       "  'author': 'Pam Elliot',\n",
       "  'rating': 1.1,\n",
       "  'isbn': '754654',\n",
       "  'language_code': 'eng',\n",
       "  'num_pages': 501,\n",
       "  'ratings_count': 521,\n",
       "  'text_reviews_count': 18,\n",
       "  'publication_date': '6/1/1991',\n",
       "  'publisher': 'Little Brown Book',\n",
       "  'available': 1}]"
      ]
     },
     "execution_count": 20,
     "metadata": {},
     "output_type": "execute_result"
    }
   ],
   "source": [
    "search_by_field(catalog, 'author', 'Pam Elliot', False)"
   ]
  },
  {
   "cell_type": "code",
   "execution_count": 21,
   "id": "d2d3bfc4",
   "metadata": {},
   "outputs": [],
   "source": [
    "update_book_field(2, 'title', 'The Ugliest Boy in Town')"
   ]
  },
  {
   "cell_type": "code",
   "execution_count": 22,
   "id": "134f8e74",
   "metadata": {},
   "outputs": [],
   "source": [
    "update_book_field(2, 'title', 'Total Recall')"
   ]
  },
  {
   "cell_type": "code",
   "execution_count": 23,
   "id": "e66c7411",
   "metadata": {},
   "outputs": [],
   "source": [
    "update_book_field(2, 'title', 'Weeble Wobble')"
   ]
  },
  {
   "cell_type": "code",
   "execution_count": 24,
   "id": "20f58b30",
   "metadata": {},
   "outputs": [
    {
     "data": {
      "text/plain": [
       "[b\"{'$set': {'title': 'The Ugliest Boy in Town'}}\",\n",
       " b\"{'$set': {'title': 'Total Recall'}}\",\n",
       " b\"{'$set': {'title': 'Weeble Wobble'}}\"]"
      ]
     },
     "execution_count": 24,
     "metadata": {},
     "output_type": "execute_result"
    }
   ],
   "source": [
    "get_history(catalog, 2)"
   ]
  },
  {
   "cell_type": "code",
   "execution_count": 25,
   "id": "de33a54f",
   "metadata": {},
   "outputs": [],
   "source": [
    "undo(catalog, 2)"
   ]
  },
  {
   "cell_type": "code",
   "execution_count": 26,
   "id": "ab3b0b76",
   "metadata": {},
   "outputs": [
    {
     "name": "stdout",
     "output_type": "stream",
     "text": [
      "Successfully deleted \"Weeble Wobble\"\n"
     ]
    }
   ],
   "source": [
    "delete_book(2)"
   ]
  },
  {
   "cell_type": "markdown",
   "id": "ca87f292",
   "metadata": {},
   "source": [
    "## Troubleshooting functions"
   ]
  },
  {
   "cell_type": "code",
   "execution_count": 27,
   "id": "e7fae897",
   "metadata": {},
   "outputs": [],
   "source": [
    "def update_book_field(book_id, field, value):\n",
    "        query = {'_id': book_id}\n",
    "        set_value = {'$set': {field : value}}\n",
    "        \n",
    "        save_to_history(catalog, book_id, set_value)\n",
    "        catalog.update_one(query, set_value)"
   ]
  },
  {
   "cell_type": "code",
   "execution_count": 28,
   "id": "ba1199c6",
   "metadata": {},
   "outputs": [],
   "source": [
    "def save_to_history(collection, doc_id, query):\n",
    "    doc_history = f'{collection}_ID{doc_id}_History'\n",
    "    count = r.zcard(doc_history)\n",
    "    \n",
    "    doc_dict = {}\n",
    "    doc_dict[str(query)] = count + 1\n",
    "    \n",
    "    r.zadd(doc_history, doc_dict)"
   ]
  },
  {
   "cell_type": "code",
   "execution_count": 29,
   "id": "0285ea50",
   "metadata": {},
   "outputs": [],
   "source": [
    "def undo(collection, doc_id):\n",
    "    doc_history = f'{collection}_ID{doc_id}_History'\n",
    "    doc = collection.find_one(doc_id)\n",
    "    \n",
    "    try:\n",
    "        count = r.zcard(doc_history) + 1\n",
    "        query = {'id': doc_id}\n",
    "        value = r.zrange(doc_history, count, count + 1)\n",
    "        history = get_history(catalog, doc_id)\n",
    "        print(history)\n",
    "#         value = history([len(history) - 1])\n",
    "        print(value)\n",
    "#         value = json.loads(value)\n",
    "        catalog.update_one(query, value)\n",
    "        \n",
    "        r.zremrangebyscore(doc_history, count, count + 1)\n",
    "    except Exception as e:\n",
    "        print(e)\n",
    "#         print(f'{doc} does not have an edit history')"
   ]
  },
  {
   "cell_type": "code",
   "execution_count": 30,
   "id": "9321f214",
   "metadata": {},
   "outputs": [],
   "source": [
    "def get_history(collection, doc_id):\n",
    "    doc_history = f'{collection}_ID{doc_id}_History'\n",
    "    return r.zrange(doc_history, 0, -1)"
   ]
  },
  {
   "cell_type": "code",
   "execution_count": 31,
   "id": "3497bda5",
   "metadata": {},
   "outputs": [
    {
     "name": "stdout",
     "output_type": "stream",
     "text": [
      "[b\"{'$set': {'title': 'The Ugliest Boy in Town'}}\", b\"{'$set': {'title': 'Total Recall'}}\", b\"{'$set': {'title': 'Weeble Wobble'}}\"]\n",
      "[]\n",
      "update cannot be empty\n"
     ]
    }
   ],
   "source": [
    "undo(catalog, 2)"
   ]
  },
  {
   "cell_type": "code",
   "execution_count": 32,
   "id": "15712d46",
   "metadata": {},
   "outputs": [
    {
     "name": "stdout",
     "output_type": "stream",
     "text": [
      "Book ID: 2 does not exist in our system\n"
     ]
    }
   ],
   "source": [
    "delete_book(2)"
   ]
  },
  {
   "cell_type": "markdown",
   "id": "af7e799c",
   "metadata": {},
   "source": [
    "### Search by quote"
   ]
  },
  {
   "cell_type": "code",
   "execution_count": 33,
   "id": "0b1ffe76",
   "metadata": {},
   "outputs": [],
   "source": [
    "def search_quote(quote):\n",
    "    if not 'text_text' in texts.index_information():\n",
    "        texts.create_index([('text', 'text')])\n",
    "    try:\n",
    "        book_content = texts.find({'$text': {'$search': f'\\\"{quote}\\\"'}}).limit(1)\n",
    "        for item in book_content:\n",
    "            book_id = item['_id']\n",
    "        query = {'_id': book_id}\n",
    "        book = catalog.find_one(query)\n",
    "        return book\n",
    "    except UnboundLocalError:\n",
    "        print('Cound not find your quote')"
   ]
  },
  {
   "cell_type": "code",
   "execution_count": 34,
   "id": "334e6046",
   "metadata": {},
   "outputs": [
    {
     "data": {
      "text/plain": [
       "{'_id': 33186,\n",
       " 'title': 'Hamlet  Prince of Denmark',\n",
       " 'author': 'William Shakespeare/Philip Edwards/Robert Hapgood',\n",
       " 'average_rating': 4.02,\n",
       " 'isbn': '521532523',\n",
       " 'language_code': 'eng',\n",
       " 'num_pages': 270,\n",
       " 'ratings_count': 149,\n",
       " 'text_reviews_count': 13,\n",
       " 'publication_date': '4/21/2003',\n",
       " 'publisher': 'Cambridge University Press/The New Cambridge Shakespeare',\n",
       " 'available': 1}"
      ]
     },
     "execution_count": 34,
     "metadata": {},
     "output_type": "execute_result"
    }
   ],
   "source": [
    "quote_1 = \"Brevity is the soul of wit\"\n",
    "quote_2 = \"God is dead\"\n",
    "\n",
    "search_quote(quote_1)"
   ]
  },
  {
   "cell_type": "code",
   "execution_count": 35,
   "id": "b0ed0861",
   "metadata": {},
   "outputs": [
    {
     "data": {
      "text/plain": [
       "{'_id': 18310,\n",
       " 'title': 'Thus Spake Zarathustra: A Book for All and None',\n",
       " 'author': 'Friedrich Nietzsche',\n",
       " 'average_rating': 4.06,\n",
       " 'isbn': '1406947199',\n",
       " 'language_code': 'eng',\n",
       " 'num_pages': 356,\n",
       " 'ratings_count': 275,\n",
       " 'text_reviews_count': 20,\n",
       " 'publication_date': '11/3/2006',\n",
       " 'publisher': 'Penguin',\n",
       " 'available': 1}"
      ]
     },
     "execution_count": 35,
     "metadata": {},
     "output_type": "execute_result"
    }
   ],
   "source": [
    "search_quote(quote_2)"
   ]
  },
  {
   "cell_type": "markdown",
   "id": "ce2a13a3",
   "metadata": {},
   "source": [
    "## Employee SCUM"
   ]
  },
  {
   "cell_type": "code",
   "execution_count": 36,
   "id": "e18577d7",
   "metadata": {},
   "outputs": [],
   "source": [
    "def get_employee(employee_id):\n",
    "    query = {'id': employee_id}\n",
    "    employee = employees.find_one(query)\n",
    "    return employee"
   ]
  },
  {
   "cell_type": "code",
   "execution_count": 37,
   "id": "75dbad21",
   "metadata": {},
   "outputs": [],
   "source": [
    "def add_employee(employee_id, surname, first_name, schedule,weekly_hours,\n",
    "                 wage_type, pay, phone, email, password):\n",
    "        try:\n",
    "            this_employee = {'_id': employee_id,\n",
    "                            'surname': surname,\n",
    "                            'firstName': first_name,\n",
    "                            'schedule': schedule,\n",
    "                            'weeklyHours': weekly_hours,\n",
    "                            'wageType': wage_type,\n",
    "                            'pay': pay,\n",
    "                            'phone': phone,\n",
    "                            'email': email,\n",
    "                            'username': username,\n",
    "                            'password': password\n",
    "                            }\n",
    "            employees.insert_one(this_book)\n",
    "            print(f'Sucessfully added {first_name} {surname} to system.')\n",
    "        except:\n",
    "            print(f'Employee ID already exists in our system.')"
   ]
  },
  {
   "cell_type": "code",
   "execution_count": 38,
   "id": "cf6a028c",
   "metadata": {},
   "outputs": [],
   "source": [
    "def delete_employee(employee_id):\n",
    "    try:\n",
    "        query = {'_id': employee_id}\n",
    "        employees.delete_one(query)\n",
    "    except:\n",
    "        print(f'Employee ID: {employee_id} does not exist in our system.')"
   ]
  },
  {
   "cell_type": "code",
   "execution_count": 39,
   "id": "e5d106c4",
   "metadata": {},
   "outputs": [],
   "source": [
    "def update_employee_field(employee_id, field, value):\n",
    "        query = {'_id': employee_id}\n",
    "        set_value = {'$set': {field : value}}\n",
    "        catalog.update_one(query, set_value)"
   ]
  },
  {
   "cell_type": "markdown",
   "id": "f46d780f",
   "metadata": {},
   "source": [
    "## Patron functions"
   ]
  },
  {
   "cell_type": "markdown",
   "id": "7dc998aa",
   "metadata": {},
   "source": [
    "### Basic SCUM"
   ]
  },
  {
   "cell_type": "code",
   "execution_count": 40,
   "id": "2acd081c",
   "metadata": {},
   "outputs": [],
   "source": [
    "def get_patron(patron_id):\n",
    "    query = {'_id': patron_id}\n",
    "    patron = patrons.find_one(query)\n",
    "    return patron"
   ]
  },
  {
   "cell_type": "code",
   "execution_count": 41,
   "id": "0155c9c8",
   "metadata": {},
   "outputs": [],
   "source": [
    "def add_patron(patron_id, surname, first_name, address, phone, email, username, password, loc, pub_priv):\n",
    "    try:\n",
    "        this_patron = {'_id': patron_id,\n",
    "                      'surname': surname,\n",
    "                      'firstName': first_name,\n",
    "                      'address': address,\n",
    "                      'phone': phone,\n",
    "                      'email': email,\n",
    "                      'username': username,\n",
    "                      'password': password,\n",
    "                      'loc': loc,\n",
    "                      'pubPriv': pub_priv}\n",
    "        patrons.insert_one(this_patron)\n",
    "    except:\n",
    "        print('Patron ID already exists in this system')"
   ]
  },
  {
   "cell_type": "code",
   "execution_count": 42,
   "id": "cc07d76a",
   "metadata": {},
   "outputs": [],
   "source": [
    "def delete_patron(patron_id):\n",
    "    try:\n",
    "        query = {'_id': patron_id}\n",
    "        patrons.delete_one(query)\n",
    "    except:\n",
    "        print(f'Patron ID: {patron_id} does not exist in our system')"
   ]
  },
  {
   "cell_type": "code",
   "execution_count": 43,
   "id": "cf53eec3",
   "metadata": {},
   "outputs": [],
   "source": [
    "def delete_patrons(patronID_list):\n",
    "    for patron_id in patronID_list:\n",
    "        delete_patron(patron_id)"
   ]
  },
  {
   "cell_type": "code",
   "execution_count": 44,
   "id": "1779f3f7",
   "metadata": {},
   "outputs": [],
   "source": [
    "def update_patron_field(patron_id, field, value):\n",
    "    query = {'_id': patron_id}\n",
    "    set_value = {'$set': {field : value}}\n",
    "    patrons.update_one(query, set_value)"
   ]
  },
  {
   "cell_type": "code",
   "execution_count": 45,
   "id": "94a8ba41",
   "metadata": {},
   "outputs": [],
   "source": [
    "def favorite(patron_id, book_id):\n",
    "    query = {'_id': patron_id}\n",
    "    book = get_book(book_id)\n",
    "    patron_book = {'$push': {'favorites': book}}\n",
    "    patrons.update_one(query, patron_book)\n"
   ]
  },
  {
   "cell_type": "code",
   "execution_count": 46,
   "id": "75a89ca3",
   "metadata": {},
   "outputs": [],
   "source": [
    "def unfavorite(patron_id, book_id):\n",
    "    query = {'_id': patron_id}\n",
    "    book = get_book(book_id)\n",
    "    \n",
    "    patron_book = {'$pull': {'favorites': book}}\n",
    "    patrons.update_one(query, patron_book)"
   ]
  },
  {
   "cell_type": "markdown",
   "id": "b94f7e78",
   "metadata": {},
   "source": [
    "#### Demo"
   ]
  },
  {
   "cell_type": "code",
   "execution_count": 47,
   "id": "0c07f755",
   "metadata": {},
   "outputs": [],
   "source": [
    "favorite(1, 4)"
   ]
  },
  {
   "cell_type": "code",
   "execution_count": 48,
   "id": "0f09d002",
   "metadata": {},
   "outputs": [],
   "source": [
    "unfavorite(1, 4)"
   ]
  },
  {
   "cell_type": "code",
   "execution_count": 49,
   "id": "857bf7ef",
   "metadata": {},
   "outputs": [
    {
     "data": {
      "text/plain": [
       "{'_id': 1,\n",
       " 'surname': 'Estrada',\n",
       " 'firstName': 'Heather',\n",
       " 'address': '1912 Howard Bypass Apt. 110, Roscoe, IL, 61080',\n",
       " 'phone': '(580)417-1971',\n",
       " 'email': 'heestrada@gmail.com',\n",
       " 'username': 'heestrada',\n",
       " 'password': 'BbHt4h3Afg',\n",
       " 'loc': [-89.03274288039283, 42.449495529630994],\n",
       " 'pubPriv': 'private',\n",
       " 'checkedOutBooks': [],\n",
       " 'favorites': []}"
      ]
     },
     "execution_count": 49,
     "metadata": {},
     "output_type": "execute_result"
    }
   ],
   "source": [
    "get_patron(1)"
   ]
  },
  {
   "cell_type": "markdown",
   "id": "920d07d2",
   "metadata": {},
   "source": [
    "### Check-out and Check-in"
   ]
  },
  {
   "cell_type": "code",
   "execution_count": 50,
   "id": "6cf5bfde",
   "metadata": {},
   "outputs": [],
   "source": [
    "def add_to_cart(patron_id, book_id):\n",
    "    book = catalog.find_one({'_id': book_id})\n",
    "    \n",
    "    cart = f'Patron_{patron_id:05}_Cart'\n",
    "    count = r.hlen(cart)\n",
    "    try:\n",
    "        if book['available'] == 0:\n",
    "           print(f'Sorry, \"{book[\"title\"]}\" is not currently available')\n",
    "        elif bytes(str(book_id), 'utf-8') not in r.hscan(cart)[1].values():\n",
    "            r.hset(cart, f'book_{count + 1:0}', book_id)\n",
    "            print(f'added \"{book[\"title\"]}\" to your cart')\n",
    "        else:\n",
    "            print(f'you already have \"{book[\"title\"]}\" in your cart')\n",
    "    except TypeError:\n",
    "        print(f'Sorry, a book with bookID: {book_id} is not in our system')"
   ]
  },
  {
   "cell_type": "code",
   "execution_count": 51,
   "id": "ddd4a810",
   "metadata": {},
   "outputs": [],
   "source": [
    "def check_out(patron_id):\n",
    "    cart = r.hscan(f'Patron_{patron_id:05}_Cart')[1]\n",
    "    \n",
    "    for book_id in cart.values():\n",
    "        book_id = int(book_id)\n",
    "        \n",
    "        cat_query = {'_id': book_id}\n",
    "        checkout = {'$set': {'available': 0}}\n",
    "        catalog.update_one(cat_query, checkout)\n",
    "        \n",
    "        pat_query = {'_id': patron_id}\n",
    "        patron_book = {'$push': {'checkedOutBooks': book_id}}\n",
    "        \n",
    "        patrons.update_one(pat_query, patron_book)\n",
    "    \n",
    "    r.delete(f'Patron_{patron_id:05}_Cart')\n",
    "    "
   ]
  },
  {
   "cell_type": "code",
   "execution_count": 52,
   "id": "af202a75",
   "metadata": {},
   "outputs": [],
   "source": [
    "def check_in(patron_id, book_id_list):\n",
    "    for book_id in book_id_list:\n",
    "        cat_query = {'_id': book_id}\n",
    "        pat_query = {'_id': patron_id}\n",
    "\n",
    "        patron = patrons.find_one(pat_query)\n",
    "        booklist= patron['checkedOutBooks']\n",
    "\n",
    "        book = catalog.find_one(cat_query)\n",
    "\n",
    "        if book_id in booklist:\n",
    "\n",
    "            checkin = {'$set': {'available': 1}}\n",
    "            catalog.update_one(cat_query, checkin)\n",
    "\n",
    "            book_query = {'$pull': {'checkedOutBooks': book_id}}\n",
    "            patrons.update_one(pat_query, book_query)\n",
    "        else:\n",
    "            print(f'Patron {patron[\"firstName\"]} {patron[\"surname\"]} does not have \"{book[\"title\"]}\" checked out.')"
   ]
  },
  {
   "cell_type": "code",
   "execution_count": 53,
   "id": "35f514e1",
   "metadata": {},
   "outputs": [],
   "source": [
    "def get_patron_checked_out(patron_id):\n",
    "    patron = get_patron(patron_id)\n",
    "    checked_out = patron['checkedOutBooks']\n",
    "    return checked_out"
   ]
  },
  {
   "cell_type": "markdown",
   "id": "45677146",
   "metadata": {},
   "source": [
    "#### Demo"
   ]
  },
  {
   "cell_type": "code",
   "execution_count": 54,
   "id": "7c4b8700",
   "metadata": {},
   "outputs": [
    {
     "name": "stdout",
     "output_type": "stream",
     "text": [
      "Sorry, a book with bookID: 2 is not in our system\n",
      "Sorry, a book with bookID: 3 is not in our system\n",
      "added \"Power of an Hour: Business and Life Mastery in One Hour a Week\" to your cart\n",
      "added \"Agile Web Development with Rails: A Pragmatic Guide\" to your cart\n",
      "added \"J.R.R. Tolkien 4-Book Boxed Set: The Hobbit and The Lord of the Rings\" to your cart\n"
     ]
    }
   ],
   "source": [
    "add_to_cart(1, 2)\n",
    "add_to_cart(1, 3)\n",
    "add_to_cart(1, 130)\n",
    "add_to_cart(1, 45)\n",
    "add_to_cart(1, 30)"
   ]
  },
  {
   "cell_type": "code",
   "execution_count": 55,
   "id": "4d2fc814",
   "metadata": {},
   "outputs": [
    {
     "data": {
      "text/plain": [
       "[130, 45, 30]"
      ]
     },
     "execution_count": 55,
     "metadata": {},
     "output_type": "execute_result"
    }
   ],
   "source": [
    "check_out(1)\n",
    "get_patron_checked_out(1)"
   ]
  },
  {
   "cell_type": "code",
   "execution_count": 56,
   "id": "e7e7acd7",
   "metadata": {},
   "outputs": [],
   "source": [
    "book_list = get_patron_checked_out(1)\n",
    "check_in(1, book_list)"
   ]
  },
  {
   "cell_type": "markdown",
   "id": "db324792",
   "metadata": {},
   "source": [
    "### Patrons Journals"
   ]
  },
  {
   "cell_type": "code",
   "execution_count": 57,
   "id": "7a39f9bc",
   "metadata": {},
   "outputs": [
    {
     "data": {
      "text/plain": [
       "'text_text'"
      ]
     },
     "execution_count": 57,
     "metadata": {},
     "output_type": "execute_result"
    }
   ],
   "source": [
    "texts.create_index([('text', pym.TEXT)], default_language='english')"
   ]
  },
  {
   "cell_type": "code",
   "execution_count": 58,
   "id": "8cb9be6a",
   "metadata": {},
   "outputs": [],
   "source": [
    "def save_book_entry(patron_id, book_id, entry):\n",
    "    book = get_book(book_id)   \n",
    "    journal = f'Patron_{patron_id:05}_Journal'\n",
    "    count = r.zcard(journal)\n",
    "    entry_dict = {}\n",
    "    entry_dict[f'{book[\"title\"]}: {entry}'] = count + 1\n",
    "    \n",
    "    r.zadd(journal, entry_dict, nx=True)"
   ]
  },
  {
   "cell_type": "code",
   "execution_count": 59,
   "id": "4287be88",
   "metadata": {},
   "outputs": [],
   "source": [
    "def write_note(patron_id, entry):\n",
    "    journal = f'Patron_{patron_id:05}_Journal'\n",
    "    count = r.zcard(journal)\n",
    "    entry_dict = {}\n",
    "    entry_dict[f'Personal Note: {entry}'] = count + 1\n",
    "    \n",
    "    r.zadd(journal, entry_dict, nx=True)"
   ]
  },
  {
   "cell_type": "code",
   "execution_count": 60,
   "id": "66e82ae1",
   "metadata": {},
   "outputs": [],
   "source": [
    "def get_journal(patron_id):\n",
    "    journal = f'Patron_{patron_id:05}_Journal'\n",
    "    content = r.zrange(journal, 0, -1)\n",
    "    return content"
   ]
  },
  {
   "cell_type": "code",
   "execution_count": 61,
   "id": "1a5c79ec",
   "metadata": {},
   "outputs": [],
   "source": [
    "def delete_journal_entry(patron_id, entry):\n",
    "    journal = f'Patron_{patron_id:05}_Journal'\n",
    "    r.zrem(journal,f'Entry_{entry}')"
   ]
  },
  {
   "cell_type": "code",
   "execution_count": 62,
   "id": "fff52d56",
   "metadata": {},
   "outputs": [],
   "source": [
    "def delete_journal(patron_id):\n",
    "    journal = f'Patron_{patron_id:05}_Journal'\n",
    "    r.delete(journal)"
   ]
  },
  {
   "cell_type": "markdown",
   "id": "a5726f57",
   "metadata": {},
   "source": [
    "#### Demo"
   ]
  },
  {
   "cell_type": "code",
   "execution_count": 63,
   "id": "c6d63a69",
   "metadata": {},
   "outputs": [],
   "source": [
    "save_book_entry(1, 30474, \"The bourgeoisie cannot exist without constantly revolutionising the instruments of production, and thereby the relations of production, and with them the whole relations of society.\")"
   ]
  },
  {
   "cell_type": "code",
   "execution_count": 64,
   "id": "d4c4db63",
   "metadata": {},
   "outputs": [],
   "source": [
    "write_note(1, \"Someday I'LL write a book\")\n",
    "write_note(1, \"Or I'll write a poem\")\n",
    "write_note(1, \"Someday, I'll write a sentence\")"
   ]
  },
  {
   "cell_type": "code",
   "execution_count": 65,
   "id": "ea453a14",
   "metadata": {},
   "outputs": [],
   "source": [
    "save_book_entry(1, 10534, \"The supreme art of war is to subdue the enemy without fighting.\")"
   ]
  },
  {
   "cell_type": "code",
   "execution_count": 66,
   "id": "7d405b46",
   "metadata": {},
   "outputs": [
    {
     "data": {
      "text/plain": [
       "[b'The Communist Manifesto: The bourgeoisie cannot exist without constantly revolutionising the instruments of production, and thereby the relations of production, and with them the whole relations of society.',\n",
       " b\"Personal Note: Someday I'LL write a book\",\n",
       " b\"Personal Note: Or I'll write a poem\",\n",
       " b\"Personal Note: Someday, I'll write a sentence\",\n",
       " b'The Art of War: The supreme art of war is to subdue the enemy without fighting.']"
      ]
     },
     "execution_count": 66,
     "metadata": {},
     "output_type": "execute_result"
    }
   ],
   "source": [
    "journal = get_journal(1)\n",
    "journal"
   ]
  },
  {
   "cell_type": "code",
   "execution_count": 67,
   "id": "c988e029",
   "metadata": {},
   "outputs": [],
   "source": [
    "delete_journal(1)"
   ]
  },
  {
   "cell_type": "markdown",
   "id": "b80084aa",
   "metadata": {},
   "source": [
    "### Patron Location and Sharing"
   ]
  },
  {
   "cell_type": "code",
   "execution_count": 68,
   "id": "014ae4ab",
   "metadata": {},
   "outputs": [],
   "source": [
    "def get_location(patron_id):\n",
    "    pat_query = {'_id': patron_id}\n",
    "    patron = patrons.find_one(pat_query)\n",
    "    print(patron['loc'])"
   ]
  },
  {
   "cell_type": "code",
   "execution_count": 69,
   "id": "b8cac421",
   "metadata": {},
   "outputs": [],
   "source": [
    "def update_location(patron_id, long, lat):\n",
    "    pat_query = {'_id': patron_id}\n",
    "    patron = patrons.find_one(pat_query)\n",
    "    \n",
    "    update_loc = {'$set': {'loc': [long, lat]}}\n",
    "    \n",
    "    patrons.update_one(pat_query, update_loc)"
   ]
  },
  {
   "cell_type": "code",
   "execution_count": 70,
   "id": "f08919e5",
   "metadata": {},
   "outputs": [],
   "source": [
    "def toggle_loc_share(patron_id):\n",
    "    pat_query = {'_id': patron_id}\n",
    "    patron = patrons.find_one(pat_query)\n",
    "    if patron['pubPriv'] == 'public':\n",
    "        set_priv = {'$set': {'pubPriv': 'private'}}\n",
    "        patrons.update_one(pat_query, set_priv)\n",
    "        print(f'Patron {patron[\"_id\"]} set to \"private\"')\n",
    "    else:\n",
    "        set_pub = {'$set': {'pubPriv': 'public'}}\n",
    "        patrons.update_one(pat_query, set_pub)\n",
    "        print(f'Patron {patron[\"_id\"]} set to \"public\"')"
   ]
  },
  {
   "cell_type": "code",
   "execution_count": 71,
   "id": "4b75658e",
   "metadata": {},
   "outputs": [],
   "source": [
    "def find_nearby_patrons(patron_id):\n",
    "    patron = get_patron(patron_id)\n",
    "    cardinal = ['North', 'East', 'South', 'West']\n",
    "    nearby_patrons = []\n",
    "    report = []\n",
    "\n",
    "    for near_patron in patrons.find({\"loc\": {\"$within\": {\"$center\": [patron['loc'], .01]}}}).limit(20):\n",
    "        if near_patron['pubPriv'] == 'public' and near_patron['_id'] != patron['_id']:\n",
    "            lat = ((patron['loc'][0] - near_patron['loc'][0]) * 139)\n",
    "            long = ((patron['loc'][1] - near_patron['loc'][1]) * 111)\n",
    "            \n",
    "            nearby_patrons.append(near_patron['_id'])\n",
    "            report.append(f'Patron {near_patron[\"firstName\"]} {near_patron[\"surname\"]} (ID:{near_patron[\"_id\"]}) is {abs(long) * 10} meters {cardinal[0] if long > 0 else cardinal[2]} and {abs(lat)*10} meters {cardinal[1] if lat > 0 else cardinal[3]}')\n",
    "    return nearby_patrons, report"
   ]
  },
  {
   "cell_type": "markdown",
   "id": "6c06e221",
   "metadata": {},
   "source": [
    "#### Demo"
   ]
  },
  {
   "cell_type": "code",
   "execution_count": 72,
   "id": "74cab601",
   "metadata": {},
   "outputs": [
    {
     "name": "stdout",
     "output_type": "stream",
     "text": [
      "Patron Martin Meyers (ID:428) is 1.9037465201707704 meters North and 9.316445081107787 meters East\n",
      "Patron Taylor Bryant (ID:110) is 0.09539039337752797 meters South and 9.773075715985868 meters East\n",
      "Patron Ashley Wells (ID:278) is 9.602758194364753 meters North and 5.086691589408048 meters East\n",
      "Patron Jeffrey Reed (ID:520) is 9.616877470664775 meters North and 4.4989690780043645 meters East\n",
      "Patron Tracy Dominguez (ID:872) is 8.34546151464167 meters North and 4.589582136346166 meters East\n",
      "Patron Jesse Hale (ID:241) is 4.7732143657975 meters North and 1.9125025445720212 meters East\n",
      "Patron Charles Jordan (ID:343) is 0.9563625038899204 meters North and 5.669658470117014 meters East\n",
      "Patron Robert Nelson (ID:126) is 0.2991466549914179 meters South and 2.048750956911931 meters East\n",
      "Patron Dylan Miller (ID:358) is 3.606111335604112 meters South and 12.857871977741553 meters East\n",
      "Patron Jennifer Miller (ID:634) is 0.5705487576206281 meters South and 0.10102804150477596 meters East\n",
      "Patron Colleen Lopez (ID:572) is 7.837601076881171 meters North and 7.336748241652629 meters West\n"
     ]
    }
   ],
   "source": [
    "nearby, report = find_nearby_patrons(1)\n",
    "for patron in report:\n",
    "    print(patron)"
   ]
  },
  {
   "cell_type": "code",
   "execution_count": 73,
   "id": "a8392e15",
   "metadata": {},
   "outputs": [
    {
     "name": "stdout",
     "output_type": "stream",
     "text": [
      "Patron 246 set to \"public\"\n"
     ]
    }
   ],
   "source": [
    "toggle_loc_share(246)"
   ]
  },
  {
   "cell_type": "code",
   "execution_count": 74,
   "id": "84b264b3",
   "metadata": {},
   "outputs": [
    {
     "name": "stdout",
     "output_type": "stream",
     "text": [
      "[-88.97699961874508, 42.40738449796045]\n"
     ]
    }
   ],
   "source": [
    "get_location(2)"
   ]
  },
  {
   "cell_type": "code",
   "execution_count": 75,
   "id": "098f9af3",
   "metadata": {},
   "outputs": [],
   "source": [
    "update_location(2,-89.061, 42.4627)"
   ]
  },
  {
   "cell_type": "markdown",
   "id": "d02692ca",
   "metadata": {},
   "source": [
    "### Book Club"
   ]
  },
  {
   "cell_type": "code",
   "execution_count": 76,
   "id": "aefa2745",
   "metadata": {},
   "outputs": [],
   "source": [
    "def send_message(messenger, recipient, message):\n",
    "    if messenger['pubPriv'] == 'private' :\n",
    "        error_message = 'You need to set your account to public before you can message others'\n",
    "    elif recipient['pubPriv'] == 'private':\n",
    "        error_message = 'Sorry, that patron has their account set to private'\n",
    "\n",
    "    elif not r.exists(f'{recipient[\"surname\"]}_{messenger[\"surname\"]}_Conversation'):\n",
    "        conversation = f'{messenger[\"surname\"]}_{recipient[\"surname\"]}_Conversation'\n",
    "    else:\n",
    "        conversation = f'{recipient[\"surname\"]}_{messenger[\"surname\"]}_Conversation'\n",
    "    \n",
    "    try:\n",
    "        count = r.zcard(conversation) + 1\n",
    "        message_dict = {}\n",
    "        message_dict[f'{count}. {messenger[\"firstName\"]} says: {message}'] = count\n",
    "\n",
    "        r.zadd(conversation, message_dict)\n",
    "    except:\n",
    "        print(error_message)"
   ]
  },
  {
   "cell_type": "code",
   "execution_count": 77,
   "id": "e3de2740",
   "metadata": {},
   "outputs": [],
   "source": [
    "def get_conversation(patron_1, patron_2):\n",
    "    if not r.exists(f'{patron_1[\"surname\"]}_{patron_2[\"surname\"]}_Conversation'):\n",
    "        conversation = r.zrange(f'{patron_2[\"surname\"]}_{patron_1[\"surname\"]}_Conversation', 0, -1)\n",
    "    else:\n",
    "        conversation = r.zrange(f'{patron_1[\"surname\"]}_{patron_2[\"surname\"]}_Conversation', 0, -1)\n",
    "    return conversation"
   ]
  },
  {
   "cell_type": "code",
   "execution_count": 78,
   "id": "98ff4d5f",
   "metadata": {},
   "outputs": [],
   "source": [
    "def delete_conversation(patron_1, patron_2):\n",
    "    if not r.exists(f'{patron_1[\"surname\"]}_{patron_2[\"surname\"]}_Conversation'):\n",
    "        r.delete(f'{patron_2[\"surname\"]}_{patron_1[\"surname\"]}_Conversation')\n",
    "    else:\n",
    "        r.delete(f'{patron_1[\"surname\"]}_{patron_2[\"surname\"]}_Conversation')"
   ]
  },
  {
   "cell_type": "code",
   "execution_count": 79,
   "id": "83273cf8",
   "metadata": {},
   "outputs": [],
   "source": [
    "def create_popUp_bookClub(creator, club_name):\n",
    "    club_name = f'The {club_name} Club'\n",
    "    if r.exists(club_name):\n",
    "        print(f'{club_name} already exists.')\n",
    "    else:\n",
    "        nearby = find_nearby_patrons(creator['_id'])[0]\n",
    "        count = r.zcard(club_name)\n",
    "\n",
    "        club_dict = {}\n",
    "        club_dict[f'{count + 1}. Patron {creator[\"firstName\"]} {creator[\"surname\"]} has created {club_name}!'] = count + 1\n",
    "\n",
    "        r.zadd(club_name, club_dict)\n",
    "        for recipient_id in nearby:\n",
    "            recipient = get_patron(recipient_id)\n",
    "            send_message(creator, recipient, f'Just created {club_name}! Setting up at {creator[\"loc\"]}')"
   ]
  },
  {
   "cell_type": "code",
   "execution_count": 80,
   "id": "d9808382",
   "metadata": {},
   "outputs": [],
   "source": [
    "def message_club(messenger, club_name, message):\n",
    "    club_name = f'The {club_name} Club'\n",
    "    count = r.zcard(club_name)\n",
    "    message_dict = {}\n",
    "    message_dict[f'{count + 1}. {messenger[\"firstName\"]} says: {message}'] = count + 1\n",
    "    if count != 0:\n",
    "        r.zadd(club_name, message_dict)\n",
    "    else:\n",
    "        print(f'{club_name} does not exist.')"
   ]
  },
  {
   "cell_type": "code",
   "execution_count": 81,
   "id": "99ad7bc5",
   "metadata": {},
   "outputs": [],
   "source": [
    "def get_club_log(club_name):\n",
    "    club_name = f'The {club_name} Club'\n",
    "    return r.zrange(club_name, 0, -1)\n",
    "    "
   ]
  },
  {
   "cell_type": "code",
   "execution_count": 82,
   "id": "556195ec",
   "metadata": {},
   "outputs": [],
   "source": [
    "def delete_club(club_name):\n",
    "    club = f'The {club_name} Club'\n",
    "    r.delete(club)"
   ]
  },
  {
   "cell_type": "markdown",
   "id": "05b594b1",
   "metadata": {},
   "source": [
    "#### Demo"
   ]
  },
  {
   "cell_type": "code",
   "execution_count": 83,
   "id": "e55432e7",
   "metadata": {},
   "outputs": [
    {
     "name": "stdout",
     "output_type": "stream",
     "text": [
      "Patron 5 set to \"private\"\n"
     ]
    }
   ],
   "source": [
    "toggle_loc_share(5) # Use this to set patron_1 to \"public\""
   ]
  },
  {
   "cell_type": "code",
   "execution_count": 84,
   "id": "03c28a84",
   "metadata": {},
   "outputs": [
    {
     "name": "stdout",
     "output_type": "stream",
     "text": [
      "You need to set your account to public before you can message others\n",
      "You need to set your account to public before you can message others\n",
      "You need to set your account to public before you can message others\n",
      "You need to set your account to public before you can message others\n",
      "You need to set your account to public before you can message others\n",
      "You need to set your account to public before you can message others\n",
      "You need to set your account to public before you can message others\n",
      "You need to set your account to public before you can message others\n",
      "You need to set your account to public before you can message others\n",
      "You need to set your account to public before you can message others\n",
      "You need to set your account to public before you can message others\n",
      "You need to set your account to public before you can message others\n",
      "You need to set your account to public before you can message others\n"
     ]
    },
    {
     "data": {
      "text/plain": [
       "[b'1. Patron Michele Andrade has created The Sci-fi Club!',\n",
       " b'2. Jennifer says: interested in meeting up!',\n",
       " b'3. Ryan says: Me three!']"
      ]
     },
     "execution_count": 84,
     "metadata": {},
     "output_type": "execute_result"
    }
   ],
   "source": [
    "club = 'Sci-fi'\n",
    "patron_1 = get_patron(5)\n",
    "patron_2 = get_patron(645)\n",
    "patron_3 = get_patron(234)\n",
    "\n",
    "create_popUp_bookClub(patron_1, club)\n",
    "message_club(patron_2, club, 'interested in meeting up!')\n",
    "message_club(patron_3, club, 'Me three!')\n",
    "\n",
    "get_club_log(club)"
   ]
  },
  {
   "cell_type": "code",
   "execution_count": 85,
   "id": "2656bbdc",
   "metadata": {},
   "outputs": [
    {
     "data": {
      "text/plain": [
       "[]"
      ]
     },
     "execution_count": 85,
     "metadata": {},
     "output_type": "execute_result"
    }
   ],
   "source": [
    "delete_club(club)\n",
    "get_club_log(club)"
   ]
  },
  {
   "cell_type": "code",
   "execution_count": 86,
   "id": "cb544c3d",
   "metadata": {},
   "outputs": [
    {
     "name": "stdout",
     "output_type": "stream",
     "text": [
      "Patron Colleen Peterson (ID:418) is 4.666894861204369 meters North and 10.544457906269571 meters East\n",
      "Patron Lisa Mendoza (ID:185) is 5.734455529613811 meters North and 6.7285465377001685 meters East\n",
      "Patron Jennifer Potts (ID:645) is 6.934723904587656 meters South and 9.21943188562409 meters East\n",
      "Patron Craig Murray (ID:517) is 9.888678841228113 meters North and 3.475235001300234 meters East\n",
      "Patron Steven Clark (ID:149) is 5.955999928402562 meters North and 1.4564028356045355 meters West\n",
      "Patron Andrew Mays (ID:528) is 7.9320548208342245 meters North and 3.6934904667859314 meters West\n",
      "Patron Michelle Erickson (ID:411) is 8.55645883176372 meters North and 5.016531514269644 meters West\n",
      "Patron Jeff Williams (ID:502) is 5.755069248390541 meters North and 8.949702256709031 meters West\n",
      "Patron Alan Clark (ID:172) is 3.4444236044625143 meters North and 1.3503219017310641 meters West\n",
      "Patron Robin Gill (ID:335) is 2.0215752056895298 meters South and 0.529112415235744 meters East\n",
      "Patron Jeremy Miller (ID:775) is 2.658744457756228 meters South and 2.466288471873952 meters East\n",
      "Patron Adriana Richardson (ID:29) is 3.655797694045262 meters South and 1.0134095778548158 meters East\n",
      "Patron Ashley Miller (ID:221) is 4.363824141144335 meters South and 1.566584711683987 meters East\n"
     ]
    }
   ],
   "source": [
    "nearby, report = find_nearby_patrons(5)\n",
    "for patron in report:\n",
    "    print(patron)"
   ]
  },
  {
   "cell_type": "code",
   "execution_count": 87,
   "id": "5d629765",
   "metadata": {},
   "outputs": [
    {
     "name": "stdout",
     "output_type": "stream",
     "text": [
      "Patron 5 set to \"public\"\n"
     ]
    }
   ],
   "source": [
    "toggle_loc_share(5)"
   ]
  },
  {
   "cell_type": "code",
   "execution_count": 88,
   "id": "c2238f34",
   "metadata": {},
   "outputs": [
    {
     "data": {
      "text/plain": [
       "[b'1. Jennifer says: Have you read \"Blindsight\"? I have been trying to find someone who has',\n",
       " b'2. Michele says: I have!',\n",
       " b'3. Jennifer says: Great! See you soon!']"
      ]
     },
     "execution_count": 88,
     "metadata": {},
     "output_type": "execute_result"
    }
   ],
   "source": [
    "patron_1 = get_patron(5)\n",
    "patron_2 = get_patron(645)\n",
    "\n",
    "send_message(patron_2, patron_1, 'Have you read \"Blindsight\"? I have been trying to find someone who has')\n",
    "send_message(patron_1, patron_2, 'I have!')\n",
    "send_message(patron_2, patron_1, 'Great! See you soon!')\n",
    "\n",
    "get_conversation(patron_1, patron_2)"
   ]
  },
  {
   "cell_type": "code",
   "execution_count": 89,
   "id": "e5bea0aa",
   "metadata": {},
   "outputs": [
    {
     "data": {
      "text/plain": [
       "[]"
      ]
     },
     "execution_count": 89,
     "metadata": {},
     "output_type": "execute_result"
    }
   ],
   "source": [
    "delete_conversation(patron_1, patron_2)\n",
    "get_conversation(patron_1, patron_2)"
   ]
  },
  {
   "cell_type": "code",
   "execution_count": 90,
   "id": "2d4b4f65",
   "metadata": {},
   "outputs": [
    {
     "data": {
      "text/plain": [
       "True"
      ]
     },
     "execution_count": 90,
     "metadata": {},
     "output_type": "execute_result"
    }
   ],
   "source": [
    "r.flushall()"
   ]
  },
  {
   "cell_type": "code",
   "execution_count": null,
   "id": "955adc85",
   "metadata": {},
   "outputs": [],
   "source": []
  }
 ],
 "metadata": {
  "kernelspec": {
   "display_name": "Python 3 (ipykernel)",
   "language": "python",
   "name": "python3"
  },
  "language_info": {
   "codemirror_mode": {
    "name": "ipython",
    "version": 3
   },
   "file_extension": ".py",
   "mimetype": "text/x-python",
   "name": "python",
   "nbconvert_exporter": "python",
   "pygments_lexer": "ipython3",
   "version": "3.10.9"
  }
 },
 "nbformat": 4,
 "nbformat_minor": 5
}
